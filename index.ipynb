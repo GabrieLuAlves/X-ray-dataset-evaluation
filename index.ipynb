{
 "cells": [
  {
   "cell_type": "code",
   "execution_count": 1,
   "id": "7a5d0adf",
   "metadata": {
    "execution": {
     "iopub.execute_input": "2024-05-28T16:47:11.716648Z",
     "iopub.status.busy": "2024-05-28T16:47:11.715891Z",
     "iopub.status.idle": "2024-05-28T16:47:40.582896Z",
     "shell.execute_reply": "2024-05-28T16:47:40.581798Z"
    },
    "papermill": {
     "duration": 28.875216,
     "end_time": "2024-05-28T16:47:40.585269",
     "exception": false,
     "start_time": "2024-05-28T16:47:11.710053",
     "status": "completed"
    },
    "tags": []
   },
   "outputs": [
    {
     "name": "stdout",
     "output_type": "stream",
     "text": [
      "Collecting split-folders\r\n",
      "  Downloading split_folders-0.5.1-py3-none-any.whl.metadata (6.2 kB)\r\n",
      "Downloading split_folders-0.5.1-py3-none-any.whl (8.4 kB)\r\n",
      "Installing collected packages: split-folders\r\n",
      "Successfully installed split-folders-0.5.1\r\n",
      "Requirement already satisfied: tensorflow==2.15.0 in /opt/conda/lib/python3.10/site-packages (2.15.0)\r\n",
      "Requirement already satisfied: absl-py>=1.0.0 in /opt/conda/lib/python3.10/site-packages (from tensorflow==2.15.0) (1.4.0)\r\n",
      "Requirement already satisfied: astunparse>=1.6.0 in /opt/conda/lib/python3.10/site-packages (from tensorflow==2.15.0) (1.6.3)\r\n",
      "Requirement already satisfied: flatbuffers>=23.5.26 in /opt/conda/lib/python3.10/site-packages (from tensorflow==2.15.0) (23.5.26)\r\n",
      "Requirement already satisfied: gast!=0.5.0,!=0.5.1,!=0.5.2,>=0.2.1 in /opt/conda/lib/python3.10/site-packages (from tensorflow==2.15.0) (0.5.4)\r\n",
      "Requirement already satisfied: google-pasta>=0.1.1 in /opt/conda/lib/python3.10/site-packages (from tensorflow==2.15.0) (0.2.0)\r\n",
      "Requirement already satisfied: h5py>=2.9.0 in /opt/conda/lib/python3.10/site-packages (from tensorflow==2.15.0) (3.10.0)\r\n",
      "Requirement already satisfied: libclang>=13.0.0 in /opt/conda/lib/python3.10/site-packages (from tensorflow==2.15.0) (16.0.6)\r\n",
      "Requirement already satisfied: ml-dtypes~=0.2.0 in /opt/conda/lib/python3.10/site-packages (from tensorflow==2.15.0) (0.2.0)\r\n",
      "Requirement already satisfied: numpy<2.0.0,>=1.23.5 in /opt/conda/lib/python3.10/site-packages (from tensorflow==2.15.0) (1.26.4)\r\n",
      "Requirement already satisfied: opt-einsum>=2.3.2 in /opt/conda/lib/python3.10/site-packages (from tensorflow==2.15.0) (3.3.0)\r\n",
      "Requirement already satisfied: packaging in /opt/conda/lib/python3.10/site-packages (from tensorflow==2.15.0) (21.3)\r\n",
      "Requirement already satisfied: protobuf!=4.21.0,!=4.21.1,!=4.21.2,!=4.21.3,!=4.21.4,!=4.21.5,<5.0.0dev,>=3.20.3 in /opt/conda/lib/python3.10/site-packages (from tensorflow==2.15.0) (3.20.3)\r\n",
      "Requirement already satisfied: setuptools in /opt/conda/lib/python3.10/site-packages (from tensorflow==2.15.0) (69.0.3)\r\n",
      "Requirement already satisfied: six>=1.12.0 in /opt/conda/lib/python3.10/site-packages (from tensorflow==2.15.0) (1.16.0)\r\n",
      "Requirement already satisfied: termcolor>=1.1.0 in /opt/conda/lib/python3.10/site-packages (from tensorflow==2.15.0) (2.4.0)\r\n",
      "Requirement already satisfied: typing-extensions>=3.6.6 in /opt/conda/lib/python3.10/site-packages (from tensorflow==2.15.0) (4.9.0)\r\n",
      "Requirement already satisfied: wrapt<1.15,>=1.11.0 in /opt/conda/lib/python3.10/site-packages (from tensorflow==2.15.0) (1.14.1)\r\n",
      "Requirement already satisfied: tensorflow-io-gcs-filesystem>=0.23.1 in /opt/conda/lib/python3.10/site-packages (from tensorflow==2.15.0) (0.35.0)\r\n",
      "Requirement already satisfied: grpcio<2.0,>=1.24.3 in /opt/conda/lib/python3.10/site-packages (from tensorflow==2.15.0) (1.51.1)\r\n",
      "Requirement already satisfied: tensorboard<2.16,>=2.15 in /opt/conda/lib/python3.10/site-packages (from tensorflow==2.15.0) (2.15.1)\r\n",
      "Requirement already satisfied: tensorflow-estimator<2.16,>=2.15.0 in /opt/conda/lib/python3.10/site-packages (from tensorflow==2.15.0) (2.15.0)\r\n",
      "Collecting keras<2.16,>=2.15.0 (from tensorflow==2.15.0)\r\n",
      "  Downloading keras-2.15.0-py3-none-any.whl.metadata (2.4 kB)\r\n",
      "Requirement already satisfied: wheel<1.0,>=0.23.0 in /opt/conda/lib/python3.10/site-packages (from astunparse>=1.6.0->tensorflow==2.15.0) (0.42.0)\r\n",
      "Requirement already satisfied: google-auth<3,>=1.6.3 in /opt/conda/lib/python3.10/site-packages (from tensorboard<2.16,>=2.15->tensorflow==2.15.0) (2.26.1)\r\n",
      "Requirement already satisfied: google-auth-oauthlib<2,>=0.5 in /opt/conda/lib/python3.10/site-packages (from tensorboard<2.16,>=2.15->tensorflow==2.15.0) (1.2.0)\r\n",
      "Requirement already satisfied: markdown>=2.6.8 in /opt/conda/lib/python3.10/site-packages (from tensorboard<2.16,>=2.15->tensorflow==2.15.0) (3.5.2)\r\n",
      "Requirement already satisfied: requests<3,>=2.21.0 in /opt/conda/lib/python3.10/site-packages (from tensorboard<2.16,>=2.15->tensorflow==2.15.0) (2.31.0)\r\n",
      "Requirement already satisfied: tensorboard-data-server<0.8.0,>=0.7.0 in /opt/conda/lib/python3.10/site-packages (from tensorboard<2.16,>=2.15->tensorflow==2.15.0) (0.7.2)\r\n",
      "Requirement already satisfied: werkzeug>=1.0.1 in /opt/conda/lib/python3.10/site-packages (from tensorboard<2.16,>=2.15->tensorflow==2.15.0) (3.0.2)\r\n",
      "Requirement already satisfied: pyparsing!=3.0.5,>=2.0.2 in /opt/conda/lib/python3.10/site-packages (from packaging->tensorflow==2.15.0) (3.1.1)\r\n",
      "Requirement already satisfied: cachetools<6.0,>=2.0.0 in /opt/conda/lib/python3.10/site-packages (from google-auth<3,>=1.6.3->tensorboard<2.16,>=2.15->tensorflow==2.15.0) (4.2.4)\r\n",
      "Requirement already satisfied: pyasn1-modules>=0.2.1 in /opt/conda/lib/python3.10/site-packages (from google-auth<3,>=1.6.3->tensorboard<2.16,>=2.15->tensorflow==2.15.0) (0.3.0)\r\n",
      "Requirement already satisfied: rsa<5,>=3.1.4 in /opt/conda/lib/python3.10/site-packages (from google-auth<3,>=1.6.3->tensorboard<2.16,>=2.15->tensorflow==2.15.0) (4.9)\r\n",
      "Requirement already satisfied: requests-oauthlib>=0.7.0 in /opt/conda/lib/python3.10/site-packages (from google-auth-oauthlib<2,>=0.5->tensorboard<2.16,>=2.15->tensorflow==2.15.0) (1.3.1)\r\n",
      "Requirement already satisfied: charset-normalizer<4,>=2 in /opt/conda/lib/python3.10/site-packages (from requests<3,>=2.21.0->tensorboard<2.16,>=2.15->tensorflow==2.15.0) (3.3.2)\r\n",
      "Requirement already satisfied: idna<4,>=2.5 in /opt/conda/lib/python3.10/site-packages (from requests<3,>=2.21.0->tensorboard<2.16,>=2.15->tensorflow==2.15.0) (3.6)\r\n",
      "Requirement already satisfied: urllib3<3,>=1.21.1 in /opt/conda/lib/python3.10/site-packages (from requests<3,>=2.21.0->tensorboard<2.16,>=2.15->tensorflow==2.15.0) (1.26.18)\r\n",
      "Requirement already satisfied: certifi>=2017.4.17 in /opt/conda/lib/python3.10/site-packages (from requests<3,>=2.21.0->tensorboard<2.16,>=2.15->tensorflow==2.15.0) (2024.2.2)\r\n",
      "Requirement already satisfied: MarkupSafe>=2.1.1 in /opt/conda/lib/python3.10/site-packages (from werkzeug>=1.0.1->tensorboard<2.16,>=2.15->tensorflow==2.15.0) (2.1.3)\r\n",
      "Requirement already satisfied: pyasn1<0.6.0,>=0.4.6 in /opt/conda/lib/python3.10/site-packages (from pyasn1-modules>=0.2.1->google-auth<3,>=1.6.3->tensorboard<2.16,>=2.15->tensorflow==2.15.0) (0.5.1)\r\n",
      "Requirement already satisfied: oauthlib>=3.0.0 in /opt/conda/lib/python3.10/site-packages (from requests-oauthlib>=0.7.0->google-auth-oauthlib<2,>=0.5->tensorboard<2.16,>=2.15->tensorflow==2.15.0) (3.2.2)\r\n",
      "Downloading keras-2.15.0-py3-none-any.whl (1.7 MB)\r\n",
      "\u001b[2K   \u001b[90m━━━━━━━━━━━━━━━━━━━━━━━━━━━━━━━━━━━━━━━━\u001b[0m \u001b[32m1.7/1.7 MB\u001b[0m \u001b[31m18.5 MB/s\u001b[0m eta \u001b[36m0:00:00\u001b[0m\r\n",
      "\u001b[?25hInstalling collected packages: keras\r\n",
      "  Attempting uninstall: keras\r\n",
      "    Found existing installation: keras 3.2.1\r\n",
      "    Uninstalling keras-3.2.1:\r\n",
      "      Successfully uninstalled keras-3.2.1\r\n",
      "\u001b[31mERROR: pip's dependency resolver does not currently take into account all the packages that are installed. This behaviour is the source of the following dependency conflicts.\r\n",
      "tensorflow-decision-forests 1.8.1 requires wurlitzer, which is not installed.\u001b[0m\u001b[31m\r\n",
      "\u001b[0mSuccessfully installed keras-2.15.0\r\n"
     ]
    }
   ],
   "source": [
    "!rm -rf /kaggle/working/*\n",
    "\n",
    "!pip install split-folders\n",
    "!pip install tensorflow==2.15.0"
   ]
  },
  {
   "cell_type": "code",
   "execution_count": 2,
   "id": "f7fc53af",
   "metadata": {
    "execution": {
     "iopub.execute_input": "2024-05-28T16:47:40.598700Z",
     "iopub.status.busy": "2024-05-28T16:47:40.598388Z",
     "iopub.status.idle": "2024-05-28T16:47:54.186954Z",
     "shell.execute_reply": "2024-05-28T16:47:54.185919Z"
    },
    "id": "MMpVa0OcPGGj",
    "papermill": {
     "duration": 13.597647,
     "end_time": "2024-05-28T16:47:54.189037",
     "exception": false,
     "start_time": "2024-05-28T16:47:40.591390",
     "status": "completed"
    },
    "tags": []
   },
   "outputs": [
    {
     "name": "stderr",
     "output_type": "stream",
     "text": [
      "2024-05-28 16:47:42.455355: E external/local_xla/xla/stream_executor/cuda/cuda_dnn.cc:9261] Unable to register cuDNN factory: Attempting to register factory for plugin cuDNN when one has already been registered\n",
      "2024-05-28 16:47:42.455454: E external/local_xla/xla/stream_executor/cuda/cuda_fft.cc:607] Unable to register cuFFT factory: Attempting to register factory for plugin cuFFT when one has already been registered\n",
      "2024-05-28 16:47:42.596418: E external/local_xla/xla/stream_executor/cuda/cuda_blas.cc:1515] Unable to register cuBLAS factory: Attempting to register factory for plugin cuBLAS when one has already been registered\n"
     ]
    },
    {
     "data": {
      "text/plain": [
       "[PhysicalDevice(name='/physical_device:GPU:0', device_type='GPU')]"
      ]
     },
     "execution_count": 2,
     "metadata": {},
     "output_type": "execute_result"
    }
   ],
   "source": [
    "import os\n",
    "import tensorflow as tf\n",
    "\n",
    "import numpy as np\n",
    "import pandas as pd\n",
    "\n",
    "from sklearn.metrics import confusion_matrix, ConfusionMatrixDisplay, classification_report, accuracy_score\n",
    "\n",
    "from typing import List\n",
    "\n",
    "tf.config.list_physical_devices('GPU')"
   ]
  },
  {
   "cell_type": "code",
   "execution_count": 3,
   "id": "3c06ecdf",
   "metadata": {
    "execution": {
     "iopub.execute_input": "2024-05-28T16:47:54.202792Z",
     "iopub.status.busy": "2024-05-28T16:47:54.202215Z",
     "iopub.status.idle": "2024-05-28T16:47:54.218830Z",
     "shell.execute_reply": "2024-05-28T16:47:54.217982Z"
    },
    "id": "n2c0Ur2eNIbH",
    "papermill": {
     "duration": 0.025555,
     "end_time": "2024-05-28T16:47:54.220794",
     "exception": false,
     "start_time": "2024-05-28T16:47:54.195239",
     "status": "completed"
    },
    "tags": []
   },
   "outputs": [],
   "source": [
    "import splitfolders\n",
    "import shutil"
   ]
  },
  {
   "cell_type": "code",
   "execution_count": 4,
   "id": "db77047b",
   "metadata": {
    "execution": {
     "iopub.execute_input": "2024-05-28T16:47:54.234606Z",
     "iopub.status.busy": "2024-05-28T16:47:54.234161Z",
     "iopub.status.idle": "2024-05-28T16:47:54.246424Z",
     "shell.execute_reply": "2024-05-28T16:47:54.245535Z"
    },
    "papermill": {
     "duration": 0.021682,
     "end_time": "2024-05-28T16:47:54.248519",
     "exception": false,
     "start_time": "2024-05-28T16:47:54.226837",
     "status": "completed"
    },
    "tags": []
   },
   "outputs": [],
   "source": [
    "def recursive_rmdir(folder):\n",
    "    for item in os.listdir(folder):\n",
    "        item_path = os.path.join(folder, item)\n",
    "        \n",
    "        if os.path.isdir(item_path):\n",
    "            recursive_rmdir(item_path)\n",
    "            os.rmdir(item_path)\n",
    "        else:\n",
    "            os.remove(item_path)\n",
    "            \n",
    "\n",
    "def organize_dataset(source_folder, destination_folder):    \n",
    "    if os.path.exists(destination_folder):\n",
    "        recursive_rmdir(destination_folder)\n",
    "    \n",
    "    # Discover all classes\n",
    "    classes = set()\n",
    "    for subfolder in os.listdir(source_folder):\n",
    "        current_folder = os.path.join(source_folder, subfolder)\n",
    "        discovered_classes = os.listdir(current_folder)\n",
    "        classes = classes.union(discovered_classes)\n",
    "    classes = list(classes)\n",
    "    classes.sort()\n",
    "\n",
    "    # Create a folder for each class\n",
    "    if not os.path.exists(destination_folder):\n",
    "        os.mkdir(destination_folder)\n",
    "    \n",
    "    for _class in classes:\n",
    "        class_directory = os.path.join(destination_folder, _class)\n",
    "        os.mkdir(class_directory)\n",
    "    \n",
    "    for subfolder in os.listdir(source_folder):\n",
    "        current_path = os.path.join(source_folder, subfolder)\n",
    "        for class_folder in os.listdir(current_path):\n",
    "            current_path = os.path.join(source_folder, subfolder, class_folder)\n",
    "            for file in os.listdir(current_path):\n",
    "                \n",
    "                file_source_path = os.path.join(\n",
    "                    source_folder,\n",
    "                    subfolder,\n",
    "                    class_folder,\n",
    "                    file\n",
    "                )\n",
    "                \n",
    "                file_destination_path = os.path.join(\n",
    "                    destination_folder,\n",
    "                    class_folder,\n",
    "                    file\n",
    "                )\n",
    "                \n",
    "                shutil.copy2(\n",
    "                    file_source_path,\n",
    "                    file_destination_path,\n",
    "                )\n",
    "\n",
    "    return classes"
   ]
  },
  {
   "cell_type": "code",
   "execution_count": 5,
   "id": "8fae6e58",
   "metadata": {
    "execution": {
     "iopub.execute_input": "2024-05-28T16:47:54.261272Z",
     "iopub.status.busy": "2024-05-28T16:47:54.260981Z",
     "iopub.status.idle": "2024-05-28T16:47:54.266363Z",
     "shell.execute_reply": "2024-05-28T16:47:54.265517Z"
    },
    "id": "G3-UpbprWm2B",
    "papermill": {
     "duration": 0.013738,
     "end_time": "2024-05-28T16:47:54.268164",
     "exception": false,
     "start_time": "2024-05-28T16:47:54.254426",
     "status": "completed"
    },
    "tags": []
   },
   "outputs": [],
   "source": [
    "def train_test_validation_split(\n",
    "    source: str,\n",
    "    destination: str,\n",
    "    seed: int | None = None\n",
    "):\n",
    "    if seed is None:\n",
    "        seed = np.random.randint(999999)\n",
    "    print(f\"Dataset's split seed is {seed}\")\n",
    "\n",
    "    if not os.path.isdir(destination):\n",
    "        splitfolders.ratio(source, output=destination,\n",
    "            seed=seed, ratio=(.6, .2, .2), move=False)"
   ]
  },
  {
   "cell_type": "code",
   "execution_count": 6,
   "id": "7b43440e",
   "metadata": {
    "execution": {
     "iopub.execute_input": "2024-05-28T16:47:54.281136Z",
     "iopub.status.busy": "2024-05-28T16:47:54.280892Z",
     "iopub.status.idle": "2024-05-28T16:47:54.287647Z",
     "shell.execute_reply": "2024-05-28T16:47:54.286718Z"
    },
    "id": "aNagWAB7IPwC",
    "papermill": {
     "duration": 0.015425,
     "end_time": "2024-05-28T16:47:54.289561",
     "exception": false,
     "start_time": "2024-05-28T16:47:54.274136",
     "status": "completed"
    },
    "tags": []
   },
   "outputs": [],
   "source": [
    "import matplotlib.pyplot as plt\n",
    "\n",
    "def plot_model_history(history):\n",
    "    fig, [ax1, ax2] = plt.subplots(1, 2, figsize=(6, 4.4))\n",
    "\n",
    "    ax1.plot(history.history['accuracy'])\n",
    "    ax1.plot(history.history['val_accuracy'])\n",
    "    ax1.set_title('Model accuracy')\n",
    "    ax1.set_ylabel('accuracy')\n",
    "    ax1.set_xlabel('epoch')\n",
    "    ax1.legend(['train', 'validation'], loc='upper left')\n",
    "\n",
    "    ax2.plot(history.history['loss'])\n",
    "    ax2.plot(history.history['val_loss'])\n",
    "    ax2.set_title('Model loss')\n",
    "    ax2.set_ylabel('loss')\n",
    "    ax2.set_xlabel('loss')\n",
    "    ax2.legend(['train', 'validation'], loc='upper left')\n",
    "\n",
    "    fig.show()"
   ]
  },
  {
   "cell_type": "code",
   "execution_count": 7,
   "id": "410941ff",
   "metadata": {
    "execution": {
     "iopub.execute_input": "2024-05-28T16:47:54.302322Z",
     "iopub.status.busy": "2024-05-28T16:47:54.302041Z",
     "iopub.status.idle": "2024-05-28T16:47:54.307647Z",
     "shell.execute_reply": "2024-05-28T16:47:54.306658Z"
    },
    "id": "7Qo2uteJsmP4",
    "papermill": {
     "duration": 0.014051,
     "end_time": "2024-05-28T16:47:54.309542",
     "exception": false,
     "start_time": "2024-05-28T16:47:54.295491",
     "status": "completed"
    },
    "tags": []
   },
   "outputs": [],
   "source": [
    "def get_true_and_predicted_labels(model, dataset):\n",
    "    y_true = []\n",
    "    y_pred = []\n",
    "    \n",
    "    for X_batch, y_batch in dataset:\n",
    "        y_batch_pred = np.argmax(model.predict(X_batch, verbose=0), axis=1)\n",
    "        \n",
    "        y_true.append(y_batch)\n",
    "        y_pred.append(y_batch_pred)\n",
    "    \n",
    "    y_true = [y_batch.numpy() for y_batch in y_true]\n",
    "    \n",
    "    return np.concatenate(y_true), np.concatenate(y_pred)"
   ]
  },
  {
   "cell_type": "code",
   "execution_count": 8,
   "id": "873028d3",
   "metadata": {
    "execution": {
     "iopub.execute_input": "2024-05-28T16:47:54.322408Z",
     "iopub.status.busy": "2024-05-28T16:47:54.322130Z",
     "iopub.status.idle": "2024-05-28T16:48:52.206304Z",
     "shell.execute_reply": "2024-05-28T16:48:52.205303Z"
    },
    "id": "ZrBCEYY3kVeL",
    "outputId": "af100c6b-d715-41ad-c463-435d0aa1a173",
    "papermill": {
     "duration": 57.893285,
     "end_time": "2024-05-28T16:48:52.208761",
     "exception": false,
     "start_time": "2024-05-28T16:47:54.315476",
     "status": "completed"
    },
    "tags": []
   },
   "outputs": [
    {
     "name": "stdout",
     "output_type": "stream",
     "text": [
      "Dataset's split seed is 892471\n"
     ]
    },
    {
     "name": "stderr",
     "output_type": "stream",
     "text": [
      "Copying files: 7132 files [00:02, 2855.83 files/s]"
     ]
    },
    {
     "name": "stdout",
     "output_type": "stream",
     "text": [
      "Found classes: ['COVID19', 'NORMAL', 'PNEUMONIA', 'TURBERCULOSIS']\n"
     ]
    },
    {
     "name": "stderr",
     "output_type": "stream",
     "text": [
      "\n"
     ]
    }
   ],
   "source": [
    "classes = organize_dataset(\n",
    "    os.path.join(\"/\", \"kaggle\", \"input\", \"chest-xray-pneumoniacovid19tuberculosis\"),\n",
    "    os.path.join(\"/\", \"kaggle\", \"working\", \"temp\"),\n",
    ")\n",
    "train_test_validation_split(\n",
    "    os.path.join(\"/\", \"kaggle\", \"working\", \"temp\"),\n",
    "    os.path.join(\"/\", \"kaggle\", \"working\", \"dataset\"),\n",
    "    seed=892471\n",
    ")\n",
    "\n",
    "print(\"Found classes:\", classes)"
   ]
  },
  {
   "cell_type": "code",
   "execution_count": 9,
   "id": "049b1c60",
   "metadata": {
    "execution": {
     "iopub.execute_input": "2024-05-28T16:48:52.243906Z",
     "iopub.status.busy": "2024-05-28T16:48:52.243145Z",
     "iopub.status.idle": "2024-05-28T16:48:55.263850Z",
     "shell.execute_reply": "2024-05-28T16:48:55.262905Z"
    },
    "papermill": {
     "duration": 3.039091,
     "end_time": "2024-05-28T16:48:55.266128",
     "exception": false,
     "start_time": "2024-05-28T16:48:52.227037",
     "status": "completed"
    },
    "tags": []
   },
   "outputs": [
    {
     "name": "stdout",
     "output_type": "stream",
     "text": [
      "\n",
      "[ TRAIN DATASET ]\n",
      "Found 4277 files belonging to 4 classes.\n",
      "\n",
      "[ VALIDATION DATASET ]\n",
      "Found 1425 files belonging to 4 classes.\n",
      "\n",
      "[ TEST DATASET ]\n",
      "Found 1430 files belonging to 4 classes.\n"
     ]
    }
   ],
   "source": [
    "print(\"\\n[ TRAIN DATASET ]\")\n",
    "train_dataset = train_set = tf.keras.utils.image_dataset_from_directory(\n",
    "    os.path.join(\"/\", \"kaggle\", \"working\", \"dataset\", \"train\"),\n",
    "    labels='inferred',\n",
    "    label_mode='int',\n",
    "    color_mode='rgb',\n",
    "    batch_size=32,\n",
    "    image_size=(224, 224),\n",
    "    shuffle=True,\n",
    "    interpolation='bilinear',\n",
    ")\n",
    "\n",
    "print(\"\\n[ VALIDATION DATASET ]\")\n",
    "validation_dataset = tf.keras.utils.image_dataset_from_directory(\n",
    "    os.path.join(\"/\", \"kaggle\", \"working\", \"dataset\", \"val\"),\n",
    "    labels='inferred',\n",
    "    label_mode='int',\n",
    "    color_mode='rgb',\n",
    "    batch_size=32,\n",
    "    image_size=(224, 224),\n",
    "    shuffle=True,\n",
    "    interpolation='bilinear',\n",
    ")\n",
    "\n",
    "print(\"\\n[ TEST DATASET ]\")\n",
    "test_dataset = tf.keras.utils.image_dataset_from_directory(\n",
    "    os.path.join(\"/\", \"kaggle\", \"working\", \"dataset\", \"test\"),\n",
    "    labels='inferred',\n",
    "    label_mode='int',\n",
    "    color_mode='rgb',\n",
    "    batch_size=32,\n",
    "    image_size=(224, 224),\n",
    "    shuffle=True,\n",
    "    interpolation='bilinear',\n",
    ")"
   ]
  },
  {
   "cell_type": "code",
   "execution_count": 10,
   "id": "6e6f4ce0",
   "metadata": {
    "execution": {
     "iopub.execute_input": "2024-05-28T16:49:06.416028Z",
     "iopub.status.busy": "2024-05-28T16:49:06.415658Z",
     "iopub.status.idle": "2024-05-28T16:49:09.948475Z",
     "shell.execute_reply": "2024-05-28T16:49:09.947715Z"
    },
    "papermill": {
     "duration": 3.545652,
     "end_time": "2024-05-28T16:49:09.950695",
     "exception": false,
     "start_time": "2024-05-28T16:49:06.405043",
     "status": "completed"
    },
    "tags": []
   },
   "outputs": [
    {
     "name": "stdout",
     "output_type": "stream",
     "text": [
      "Downloading data from https://storage.googleapis.com/tensorflow/keras-applications/vgg16/vgg16_weights_tf_dim_ordering_tf_kernels_notop.h5\n",
      "58889256/58889256 [==============================] - 3s 0us/step\n"
     ]
    }
   ],
   "source": [
    "vgg_16 = tf.keras.applications.VGG16(\n",
    "    include_top=False,\n",
    "    weights=\"imagenet\",\n",
    "    input_shape=(224, 224, 3),\n",
    "    pooling=\"max\",\n",
    ")\n",
    "\n",
    "for layer in vgg_16.layers:\n",
    "    layer.freeze = True\n",
    "\n",
    "optimizer = tf.keras.optimizers.Adam(learning_rate=0.000005, name=\"optimizer\")\n",
    "loss = tf.keras.losses.SparseCategoricalCrossentropy(name=\"loss\")\n",
    "\n",
    "model = tf.keras.Sequential([\n",
    "    tf.keras.layers.Rescaling(1./255),\n",
    "    vgg_16,\n",
    "    tf.keras.layers.Flatten(),\n",
    "    tf.keras.layers.Dense(4096, activation=\"relu\"),\n",
    "    tf.keras.layers.Dense(4096, activation=\"relu\"),\n",
    "    tf.keras.layers.Dense(4, activation=\"softmax\"),\n",
    "], name=\"model\")\n",
    "\n",
    "model.compile(\n",
    "    loss=loss,\n",
    "    optimizer=optimizer,\n",
    "    metrics=[\"accuracy\"],\n",
    ")\n",
    "model.build((None, 224, 224, 3))"
   ]
  },
  {
   "cell_type": "code",
   "execution_count": 11,
   "id": "3d1552bc",
   "metadata": {
    "execution": {
     "iopub.execute_input": "2024-05-28T16:49:09.976234Z",
     "iopub.status.busy": "2024-05-28T16:49:09.975936Z",
     "iopub.status.idle": "2024-05-28T17:15:42.561216Z",
     "shell.execute_reply": "2024-05-28T17:15:42.560224Z"
    },
    "id": "0nd5jsSFmE5J",
    "outputId": "b8a02719-59f6-4e2c-90cd-cbde47d69a46",
    "papermill": {
     "duration": 1593.079884,
     "end_time": "2024-05-28T17:15:43.042908",
     "exception": false,
     "start_time": "2024-05-28T16:49:09.963024",
     "status": "completed"
    },
    "tags": []
   },
   "outputs": [
    {
     "name": "stdout",
     "output_type": "stream",
     "text": [
      "Epoch 1/9999\n"
     ]
    },
    {
     "name": "stderr",
     "output_type": "stream",
     "text": [
      "WARNING: All log messages before absl::InitializeLog() is called are written to STDERR\n",
      "I0000 00:00:1716914958.767689      86 device_compiler.h:186] Compiled cluster using XLA!  This line is logged at most once for the lifetime of the process.\n"
     ]
    },
    {
     "name": "stdout",
     "output_type": "stream",
     "text": [
      "134/134 [==============================] - ETA: 0s - loss: 0.8100 - accuracy: 0.8237\n",
      "Epoch 1: val_accuracy improved from -inf to 0.91088, saving model to model.keras\n",
      "134/134 [==============================] - 62s 336ms/step - loss: 0.8100 - accuracy: 0.8237 - val_loss: 0.8031 - val_accuracy: 0.9109\n",
      "Epoch 2/9999\n",
      "134/134 [==============================] - ETA: 0s - loss: 0.1520 - accuracy: 0.9523\n",
      "Epoch 2: val_accuracy improved from 0.91088 to 0.95228, saving model to model.keras\n",
      "134/134 [==============================] - 37s 271ms/step - loss: 0.1520 - accuracy: 0.9523 - val_loss: 0.3033 - val_accuracy: 0.9523\n",
      "Epoch 3/9999\n",
      "134/134 [==============================] - ETA: 0s - loss: 0.1864 - accuracy: 0.9687\n",
      "Epoch 3: val_accuracy did not improve from 0.95228\n",
      "134/134 [==============================] - 36s 261ms/step - loss: 0.1864 - accuracy: 0.9687 - val_loss: 0.4883 - val_accuracy: 0.9375\n",
      "Epoch 4/9999\n",
      "134/134 [==============================] - ETA: 0s - loss: 0.2505 - accuracy: 0.9766\n",
      "Epoch 4: val_accuracy improved from 0.95228 to 0.96491, saving model to model.keras\n",
      "134/134 [==============================] - 38s 273ms/step - loss: 0.2505 - accuracy: 0.9766 - val_loss: 0.3567 - val_accuracy: 0.9649\n",
      "Epoch 5/9999\n",
      "134/134 [==============================] - ETA: 0s - loss: 1.2585 - accuracy: 0.9804\n",
      "Epoch 5: val_accuracy did not improve from 0.96491\n",
      "134/134 [==============================] - 36s 261ms/step - loss: 1.2585 - accuracy: 0.9804 - val_loss: 2.4161 - val_accuracy: 0.9544\n",
      "Epoch 6/9999\n",
      "134/134 [==============================] - ETA: 0s - loss: 0.3667 - accuracy: 0.9878\n",
      "Epoch 6: val_accuracy improved from 0.96491 to 0.96702, saving model to model.keras\n",
      "134/134 [==============================] - 37s 272ms/step - loss: 0.3667 - accuracy: 0.9878 - val_loss: 0.7992 - val_accuracy: 0.9670\n",
      "Epoch 7/9999\n",
      "134/134 [==============================] - ETA: 0s - loss: 0.2440 - accuracy: 0.9878\n",
      "Epoch 7: val_accuracy did not improve from 0.96702\n",
      "134/134 [==============================] - 36s 260ms/step - loss: 0.2440 - accuracy: 0.9878 - val_loss: 0.6046 - val_accuracy: 0.9621\n",
      "Epoch 8/9999\n",
      "134/134 [==============================] - ETA: 0s - loss: 0.1830 - accuracy: 0.9939\n",
      "Epoch 8: val_accuracy did not improve from 0.96702\n",
      "134/134 [==============================] - 36s 261ms/step - loss: 0.1830 - accuracy: 0.9939 - val_loss: 0.5424 - val_accuracy: 0.9642\n",
      "Epoch 9/9999\n",
      "134/134 [==============================] - ETA: 0s - loss: 0.5956 - accuracy: 0.9951\n",
      "Epoch 9: val_accuracy did not improve from 0.96702\n",
      "134/134 [==============================] - 36s 260ms/step - loss: 0.5956 - accuracy: 0.9951 - val_loss: 1.6446 - val_accuracy: 0.9614\n",
      "Epoch 10/9999\n",
      "134/134 [==============================] - ETA: 0s - loss: 0.4032 - accuracy: 0.9911\n",
      "Epoch 10: val_accuracy improved from 0.96702 to 0.96772, saving model to model.keras\n",
      "134/134 [==============================] - 38s 275ms/step - loss: 0.4032 - accuracy: 0.9911 - val_loss: 0.8662 - val_accuracy: 0.9677\n",
      "Epoch 11/9999\n",
      "134/134 [==============================] - ETA: 0s - loss: 0.2355 - accuracy: 0.9963\n",
      "Epoch 11: val_accuracy did not improve from 0.96772\n",
      "134/134 [==============================] - 36s 261ms/step - loss: 0.2355 - accuracy: 0.9963 - val_loss: 0.6948 - val_accuracy: 0.9656\n",
      "Epoch 12/9999\n",
      "134/134 [==============================] - ETA: 0s - loss: 0.3743 - accuracy: 0.9972\n",
      "Epoch 12: val_accuracy did not improve from 0.96772\n",
      "134/134 [==============================] - 36s 260ms/step - loss: 0.3743 - accuracy: 0.9972 - val_loss: 1.1937 - val_accuracy: 0.9621\n",
      "Epoch 13/9999\n",
      "134/134 [==============================] - ETA: 0s - loss: 0.3447 - accuracy: 0.9965\n",
      "Epoch 13: val_accuracy did not improve from 0.96772\n",
      "134/134 [==============================] - 36s 260ms/step - loss: 0.3447 - accuracy: 0.9965 - val_loss: 0.9654 - val_accuracy: 0.9614\n",
      "Epoch 14/9999\n",
      "134/134 [==============================] - ETA: 0s - loss: 0.4713 - accuracy: 0.9963\n",
      "Epoch 14: val_accuracy did not improve from 0.96772\n",
      "134/134 [==============================] - 36s 261ms/step - loss: 0.4713 - accuracy: 0.9963 - val_loss: 0.6352 - val_accuracy: 0.9656\n",
      "Epoch 15/9999\n",
      "134/134 [==============================] - ETA: 0s - loss: 0.0796 - accuracy: 0.9963\n",
      "Epoch 15: val_accuracy did not improve from 0.96772\n",
      "134/134 [==============================] - 36s 260ms/step - loss: 0.0796 - accuracy: 0.9963 - val_loss: 0.2303 - val_accuracy: 0.9670\n",
      "Epoch 16/9999\n",
      "134/134 [==============================] - ETA: 0s - loss: 0.4506 - accuracy: 0.9967\n",
      "Epoch 16: val_accuracy did not improve from 0.96772\n",
      "134/134 [==============================] - 36s 260ms/step - loss: 0.4506 - accuracy: 0.9967 - val_loss: 1.0448 - val_accuracy: 0.9670\n",
      "Epoch 17/9999\n",
      "134/134 [==============================] - ETA: 0s - loss: 0.2330 - accuracy: 0.9953\n",
      "Epoch 17: val_accuracy did not improve from 0.96772\n",
      "134/134 [==============================] - 36s 261ms/step - loss: 0.2330 - accuracy: 0.9953 - val_loss: 0.3923 - val_accuracy: 0.9551\n",
      "Epoch 18/9999\n",
      "134/134 [==============================] - ETA: 0s - loss: 0.2422 - accuracy: 0.9953\n",
      "Epoch 18: val_accuracy did not improve from 0.96772\n",
      "134/134 [==============================] - 36s 260ms/step - loss: 0.2422 - accuracy: 0.9953 - val_loss: 0.8819 - val_accuracy: 0.9663\n",
      "Epoch 19/9999\n",
      "134/134 [==============================] - ETA: 0s - loss: 0.2272 - accuracy: 0.9972\n",
      "Epoch 19: val_accuracy did not improve from 0.96772\n",
      "134/134 [==============================] - 36s 260ms/step - loss: 0.2272 - accuracy: 0.9972 - val_loss: 0.4276 - val_accuracy: 0.9656\n",
      "Epoch 20/9999\n",
      "134/134 [==============================] - ETA: 0s - loss: 0.0548 - accuracy: 0.9974\n",
      "Epoch 20: val_accuracy did not improve from 0.96772\n",
      "134/134 [==============================] - 36s 260ms/step - loss: 0.0548 - accuracy: 0.9974 - val_loss: 0.1543 - val_accuracy: 0.9663\n",
      "Epoch 21/9999\n",
      "134/134 [==============================] - ETA: 0s - loss: 0.2089 - accuracy: 0.9977\n",
      "Epoch 21: val_accuracy improved from 0.96772 to 0.96912, saving model to model.keras\n",
      "134/134 [==============================] - 38s 273ms/step - loss: 0.2089 - accuracy: 0.9977 - val_loss: 0.5161 - val_accuracy: 0.9691\n",
      "Epoch 22/9999\n",
      "134/134 [==============================] - ETA: 0s - loss: 0.1226 - accuracy: 0.9960\n",
      "Epoch 22: val_accuracy did not improve from 0.96912\n",
      "134/134 [==============================] - 36s 260ms/step - loss: 0.1226 - accuracy: 0.9960 - val_loss: 0.3999 - val_accuracy: 0.9670\n",
      "Epoch 23/9999\n",
      "134/134 [==============================] - ETA: 0s - loss: 0.1190 - accuracy: 0.9942\n",
      "Epoch 23: val_accuracy improved from 0.96912 to 0.97263, saving model to model.keras\n",
      "134/134 [==============================] - 37s 272ms/step - loss: 0.1190 - accuracy: 0.9942 - val_loss: 0.1219 - val_accuracy: 0.9726\n",
      "Epoch 24/9999\n",
      "134/134 [==============================] - ETA: 0s - loss: 0.8075 - accuracy: 0.9953\n",
      "Epoch 24: val_accuracy did not improve from 0.97263\n",
      "134/134 [==============================] - 36s 260ms/step - loss: 0.8075 - accuracy: 0.9953 - val_loss: 2.2447 - val_accuracy: 0.9628\n",
      "Epoch 25/9999\n",
      "134/134 [==============================] - ETA: 0s - loss: 0.1747 - accuracy: 0.9930\n",
      "Epoch 25: val_accuracy did not improve from 0.97263\n",
      "134/134 [==============================] - 36s 260ms/step - loss: 0.1747 - accuracy: 0.9930 - val_loss: 0.4570 - val_accuracy: 0.9677\n",
      "Epoch 26/9999\n",
      "134/134 [==============================] - ETA: 0s - loss: 0.1109 - accuracy: 0.9974\n",
      "Epoch 26: val_accuracy did not improve from 0.97263\n",
      "134/134 [==============================] - 36s 260ms/step - loss: 0.1109 - accuracy: 0.9974 - val_loss: 0.1974 - val_accuracy: 0.9663\n",
      "Epoch 27/9999\n",
      "134/134 [==============================] - ETA: 0s - loss: 0.2035 - accuracy: 0.9960    \n",
      "Epoch 27: val_accuracy did not improve from 0.97263\n",
      "134/134 [==============================] - 36s 260ms/step - loss: 0.2035 - accuracy: 0.9960 - val_loss: 0.1740 - val_accuracy: 0.9663\n",
      "Epoch 28/9999\n",
      "134/134 [==============================] - ETA: 0s - loss: 0.4382 - accuracy: 0.9967\n",
      "Epoch 28: val_accuracy did not improve from 0.97263\n",
      "134/134 [==============================] - 36s 261ms/step - loss: 0.4382 - accuracy: 0.9967 - val_loss: 2.0733 - val_accuracy: 0.9649\n",
      "Epoch 29/9999\n",
      "134/134 [==============================] - ETA: 0s - loss: 0.2515 - accuracy: 0.9981    \n",
      "Epoch 29: val_accuracy did not improve from 0.97263\n",
      "134/134 [==============================] - 36s 259ms/step - loss: 0.2515 - accuracy: 0.9981 - val_loss: 0.6509 - val_accuracy: 0.9691\n",
      "Epoch 30/9999\n",
      "134/134 [==============================] - ETA: 0s - loss: 0.1146 - accuracy: 0.9951\n",
      "Epoch 30: val_accuracy did not improve from 0.97263\n",
      "134/134 [==============================] - 36s 260ms/step - loss: 0.1146 - accuracy: 0.9951 - val_loss: 0.3647 - val_accuracy: 0.9425\n",
      "Epoch 31/9999\n",
      "134/134 [==============================] - ETA: 0s - loss: 0.0802 - accuracy: 0.9958\n",
      "Epoch 31: val_accuracy did not improve from 0.97263\n",
      "134/134 [==============================] - 36s 261ms/step - loss: 0.0802 - accuracy: 0.9958 - val_loss: 0.2318 - val_accuracy: 0.9691\n",
      "Epoch 32/9999\n",
      "134/134 [==============================] - ETA: 0s - loss: 0.1737 - accuracy: 0.9979\n",
      "Epoch 32: val_accuracy did not improve from 0.97263\n",
      "134/134 [==============================] - 36s 260ms/step - loss: 0.1737 - accuracy: 0.9979 - val_loss: 0.6316 - val_accuracy: 0.9649\n",
      "Epoch 33/9999\n",
      "134/134 [==============================] - ETA: 0s - loss: 0.1829 - accuracy: 0.9953\n",
      "Epoch 33: val_accuracy did not improve from 0.97263\n",
      "134/134 [==============================] - 36s 260ms/step - loss: 0.1829 - accuracy: 0.9953 - val_loss: 0.6830 - val_accuracy: 0.9621\n",
      "Epoch 34/9999\n",
      "134/134 [==============================] - ETA: 0s - loss: 0.2695 - accuracy: 0.9979\n",
      "Epoch 34: val_accuracy did not improve from 0.97263\n",
      "134/134 [==============================] - 36s 259ms/step - loss: 0.2695 - accuracy: 0.9979 - val_loss: 1.3203 - val_accuracy: 0.9663\n",
      "Epoch 35/9999\n",
      "134/134 [==============================] - ETA: 0s - loss: 0.0853 - accuracy: 0.9972    \n",
      "Epoch 35: val_accuracy did not improve from 0.97263\n",
      "134/134 [==============================] - 40s 288ms/step - loss: 0.0853 - accuracy: 0.9972 - val_loss: 0.2975 - val_accuracy: 0.9705\n",
      "Epoch 36/9999\n",
      "134/134 [==============================] - ETA: 0s - loss: 0.3631 - accuracy: 0.9977    \n",
      "Epoch 36: val_accuracy did not improve from 0.97263\n",
      "134/134 [==============================] - 36s 260ms/step - loss: 0.3631 - accuracy: 0.9977 - val_loss: 0.6277 - val_accuracy: 0.9726\n",
      "Epoch 37/9999\n",
      "134/134 [==============================] - ETA: 0s - loss: 0.0367 - accuracy: 0.9979    \n",
      "Epoch 37: val_accuracy did not improve from 0.97263\n",
      "134/134 [==============================] - 36s 261ms/step - loss: 0.0367 - accuracy: 0.9979 - val_loss: 0.4059 - val_accuracy: 0.9705\n",
      "Epoch 38/9999\n",
      "134/134 [==============================] - ETA: 0s - loss: 0.2779 - accuracy: 0.9977\n",
      "Epoch 38: val_accuracy did not improve from 0.97263\n",
      "134/134 [==============================] - 36s 262ms/step - loss: 0.2779 - accuracy: 0.9977 - val_loss: 0.3935 - val_accuracy: 0.9719\n",
      "Epoch 39/9999\n",
      "134/134 [==============================] - ETA: 0s - loss: 0.1301 - accuracy: 0.9965    \n",
      "Epoch 39: val_accuracy did not improve from 0.97263\n",
      "134/134 [==============================] - 36s 261ms/step - loss: 0.1301 - accuracy: 0.9965 - val_loss: 0.3257 - val_accuracy: 0.9684\n",
      "Epoch 40/9999\n",
      "134/134 [==============================] - ETA: 0s - loss: 0.3099 - accuracy: 0.9916\n",
      "Epoch 40: val_accuracy did not improve from 0.97263\n",
      "134/134 [==============================] - 36s 261ms/step - loss: 0.3099 - accuracy: 0.9916 - val_loss: 1.1110 - val_accuracy: 0.9635\n",
      "Epoch 41/9999\n",
      "134/134 [==============================] - ETA: 0s - loss: 0.1320 - accuracy: 0.9977\n",
      "Epoch 41: val_accuracy did not improve from 0.97263\n",
      "134/134 [==============================] - 36s 259ms/step - loss: 0.1320 - accuracy: 0.9977 - val_loss: 0.3838 - val_accuracy: 0.9628\n",
      "Epoch 42/9999\n",
      "134/134 [==============================] - ETA: 0s - loss: 0.0523 - accuracy: 0.9984    \n",
      "Epoch 42: val_accuracy did not improve from 0.97263\n",
      "134/134 [==============================] - 36s 260ms/step - loss: 0.0523 - accuracy: 0.9984 - val_loss: 0.2622 - val_accuracy: 0.9726\n",
      "Epoch 43/9999\n",
      "134/134 [==============================] - ETA: 0s - loss: 0.2537 - accuracy: 0.9967    \n",
      "Epoch 43: val_accuracy did not improve from 0.97263\n",
      "134/134 [==============================] - 36s 260ms/step - loss: 0.2537 - accuracy: 0.9967 - val_loss: 0.6887 - val_accuracy: 0.9670\n",
      "Epoch 43: early stopping\n"
     ]
    }
   ],
   "source": [
    "model_history = model.fit(\n",
    "    train_dataset,\n",
    "    validation_data=validation_dataset,\n",
    "    epochs=9999,\n",
    "    callbacks=[\n",
    "        tf.keras.callbacks.ModelCheckpoint(\n",
    "            model.name + '.keras',\n",
    "            monitor='val_accuracy',\n",
    "            verbose=1,\n",
    "            save_best_only=True,\n",
    "            save_weights_only=False,\n",
    "            mode='auto',\n",
    "            save_freq=\"epoch\",\n",
    "        ),\n",
    "        tf.keras.callbacks.EarlyStopping(\n",
    "            monitor='val_accuracy',\n",
    "            min_delta=0,\n",
    "            patience=20,\n",
    "            verbose=1,\n",
    "            mode='auto',\n",
    "        ),\n",
    "    ],\n",
    ")\n",
    "\n",
    "# Save history\n",
    "dataframe = pd.DataFrame(model_history.history)\n",
    "dataframe.to_csv(\"history.csv\", index_label=\"model_name\", header=True, index=True)"
   ]
  },
  {
   "cell_type": "markdown",
   "id": "d1df2005",
   "metadata": {
    "papermill": {
     "duration": 0.48259,
     "end_time": "2024-05-28T17:15:44.007515",
     "exception": false,
     "start_time": "2024-05-28T17:15:43.524925",
     "status": "completed"
    },
    "tags": []
   },
   "source": [
    "# Testando o melhor modelo"
   ]
  },
  {
   "cell_type": "code",
   "execution_count": 12,
   "id": "cb6da386",
   "metadata": {
    "execution": {
     "iopub.execute_input": "2024-05-28T17:15:45.023183Z",
     "iopub.status.busy": "2024-05-28T17:15:45.022813Z",
     "iopub.status.idle": "2024-05-28T17:16:13.908491Z",
     "shell.execute_reply": "2024-05-28T17:16:13.907562Z"
    },
    "papermill": {
     "duration": 29.369405,
     "end_time": "2024-05-28T17:16:13.910741",
     "exception": false,
     "start_time": "2024-05-28T17:15:44.541336",
     "status": "completed"
    },
    "tags": []
   },
   "outputs": [
    {
     "name": "stdout",
     "output_type": "stream",
     "text": [
      "               precision    recall  f1-score   support\n",
      "\n",
      "      COVID19       0.98      0.95      0.96       116\n",
      "       NORMAL       0.92      0.92      0.92       318\n",
      "    PNEUMONIA       0.97      0.98      0.97       856\n",
      "TURBERCULOSIS       0.98      0.99      0.98       140\n",
      "\n",
      "     accuracy                           0.96      1430\n",
      "    macro avg       0.96      0.96      0.96      1430\n",
      " weighted avg       0.96      0.96      0.96      1430\n",
      "\n"
     ]
    },
    {
     "data": {
      "image/png": "[encoded data removed]",
      "text/plain": [
       "<Figure size 640x480 with 2 Axes>"
      ]
     },
     "metadata": {},
     "output_type": "display_data"
    },
    {
     "data": {
      "image/png": "[encoded data removed]",
      "text/plain": [
       "<Figure size 600x440 with 2 Axes>"
      ]
     },
     "metadata": {},
     "output_type": "display_data"
    }
   ],
   "source": [
    "best_model = tf.keras.saving.load_model(\"model.keras\")\n",
    "y_true, y_pred = get_true_and_predicted_labels(model, test_dataset)\n",
    "\n",
    "model_accuracy = accuracy_score(y_true, y_pred)\n",
    "\n",
    "# Saving confusion matrix\n",
    "ConfusionMatrixDisplay.from_predictions(\n",
    "    y_true, y_pred,\n",
    "    display_labels=classes\n",
    ")\n",
    "plt.savefig(\"confusion_matrix.png\")\n",
    "\n",
    "print(classification_report(y_true, y_pred, target_names=classes))\n",
    "\n",
    "plot_model_history(model_history)"
   ]
  }
 ],
 "metadata": {
  "accelerator": "GPU",
  "colab": {
   "gpuType": "T4",
   "machine_shape": "hm",
   "provenance": []
  },
  "kaggle": {
   "accelerator": "gpu",
   "dataSources": [
    {
     "datasetId": 1592399,
     "sourceId": 2619910,
     "sourceType": "datasetVersion"
    }
   ],
   "isGpuEnabled": true,
   "isInternetEnabled": true,
   "language": "python",
   "sourceType": "notebook"
  },
  "kernelspec": {
   "display_name": "Python 3",
   "language": "python",
   "name": "python3"
  },
  "language_info": {
   "codemirror_mode": {
    "name": "ipython",
    "version": 3
   },
   "file_extension": ".py",
   "mimetype": "text/x-python",
   "name": "python",
   "nbconvert_exporter": "python",
   "pygments_lexer": "ipython3",
   "version": "3.10.13"
  },
  "papermill": {
   "default_parameters": {},
   "duration": 1748.251722,
   "end_time": "2024-05-28T17:16:17.252496",
   "environment_variables": {},
   "exception": null,
   "input_path": "__notebook__.ipynb",
   "output_path": "__notebook__.ipynb",
   "parameters": {},
   "start_time": "2024-05-28T16:47:09.000774",
   "version": "2.5.0"
  }
 },
 "nbformat": 4,
 "nbformat_minor": 5
}
